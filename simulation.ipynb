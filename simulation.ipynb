{
 "cells": [
  {
   "cell_type": "markdown",
   "metadata": {},
   "source": [
    "## Signals of gradient-echo MRI"
   ]
  },
  {
   "cell_type": "markdown",
   "metadata": {},
   "source": [
    "### Sequence diagram\n",
    "![sequence](sequence.jpeg)"
   ]
  },
  {
   "cell_type": "markdown",
   "metadata": {},
   "source": [
    "* In this simple simulation, we ignore the off-resonance effect. \n",
    "* The RF pulses are applied along the y-axis; and therefore we only need to compute $M_x(t)$ and $M_z(t)$ in the absence of off-resonance effect.\n",
    "* The magnetization vectors between 2 consecutive RF pulses are:\n",
    "    * $ M_x(t) = M_x(0)\\times \\exp(-\\frac{t}{T_2})$ \n",
    "    * $ M_z(t) = M_z(0)\\times \\exp(-\\frac{t}{T_1}) + M_0 \\times (1-\\exp(-\\frac{t}{T_1}))$\n",
    "* Immediately after an RF pulse (flip angle= $\\theta$ ), the magnetization vectors are:\n",
    "    * $ \\left[ \\begin{array}{ccc} M_x^+ \\\\ M_z^+ \\end{array}  \\right] =  \\left[ \\begin{array}{ccc} \\cos(\\theta) & \\sin(\\theta)  \\\\ -\\sin(\\theta) & cos(\\theta) \\end{array} \\right] \\left[ \\begin{array}{ccc} M_x^- \\\\ M_z^- \\end{array}  \\right]$\n",
    "* We assume $M_0$ = 1   "
   ]
  },
  {
   "cell_type": "markdown",
   "metadata": {},
   "source": [
    "### Parameters in this simulation"
   ]
  },
  {
   "cell_type": "code",
   "execution_count": 226,
   "metadata": {
    "collapsed": false
   },
   "outputs": [],
   "source": [
    "θ = π/4; # a 45-degree RF pulse\n",
    "TR = 1.5 # sec\n",
    "T1 = 1.0 # sec\n",
    "T2 = 0.01 # sec\n",
    "M0 = 1;"
   ]
  },
  {
   "cell_type": "code",
   "execution_count": 227,
   "metadata": {
    "collapsed": true
   },
   "outputs": [],
   "source": [
    "using PyPlot"
   ]
  },
  {
   "cell_type": "markdown",
   "metadata": {},
   "source": [
    "### RF pulse #1\n",
    "* The magnetization vector before the first RF pulse is \n",
    "\n",
    "    $ \\left[ \\begin{array}{ccc} M_x^{1-} \\\\ M_z^{1-} \\end{array} \\right] = \\left[ \\begin{array}{ccc} 0 \\\\ M_0 \\end{array} \\right] $\n",
    "    \n",
    "    \n",
    "* Immediately after a $\\theta$-degree RF pulse, the magnetization vector is \n",
    "\n",
    "    $ \\left[ \\begin{array}{ccc} M_x^{1+} \\\\ M_z^{1+} \\end{array}  \\right]= \\left[ \\begin{array}{ccc} \\cos(\\theta) & \\sin(\\theta)  \\\\ -\\sin(\\theta) & cos(\\theta) \\end{array} \\right] \\left[ \\begin{array}{ccc} 0 \\\\ M_0 \\end{array}  \\right]$"
   ]
  },
  {
   "cell_type": "code",
   "execution_count": 228,
   "metadata": {
    "collapsed": false
   },
   "outputs": [
    {
     "data": {
      "text/plain": [
       "2-element Array{Float64,1}:\n",
       " 0.707107\n",
       " 0.707107"
      ]
     },
     "execution_count": 228,
     "metadata": {},
     "output_type": "execute_result"
    }
   ],
   "source": [
    "M1minus_x = 0\n",
    "M1minus_z = M0\n",
    "transformation = [cos(θ) sin(θ); -sin(θ) cos(θ)]\n",
    "M1plus_x, M1plus_z = transformation*[M1minus_x,M1minus_z]"
   ]
  },
  {
   "cell_type": "markdown",
   "metadata": {},
   "source": [
    "### Between RF pulse #1 and RF pulse #2\n",
    "* Initially the magnetization vectors are\n",
    "\n",
    "    $ \\left[ \\begin{array}{ccc} M_x^{1+} \\\\ M_z^{1+} \\end{array}  \\right] $\n",
    "    \n",
    "    \n",
    "* After a period of time (TR), the magnetization vectors become \n",
    "    \n",
    "    $ \\left[ \\begin{array}{ccc} M_x^{2-} \\\\ M_z^{2-} \\end{array}  \\right] $"
   ]
  },
  {
   "cell_type": "code",
   "execution_count": 229,
   "metadata": {
    "collapsed": false
   },
   "outputs": [
    {
     "data": {
      "text/plain": [
       "0.9346466891797653"
      ]
     },
     "execution_count": 229,
     "metadata": {},
     "output_type": "execute_result"
    }
   ],
   "source": [
    "M2minus_x = M1plus_x*exp(-TR/T2)\n",
    "M2minus_z = M1plus_z*exp(-TR/T1) + M0*(1-exp(-TR/T1))"
   ]
  },
  {
   "cell_type": "markdown",
   "metadata": {},
   "source": [
    "### RF pulse #2\n",
    "* The magnetization vector immediately before the second RF pulse is \n",
    "\n",
    "    $ \\left[ \\begin{array}{ccc} M_x^{2-} \\\\ M_z^{2-} \\end{array} \\right]$\n",
    "    \n",
    "    \n",
    "* Immediately after a $\\theta$-degree RF pulse, the magnetization vector is \n",
    "\n",
    "    $ \\left[ \\begin{array}{ccc} M_x^{2+} \\\\ M_z^{2+} \\end{array}  \\right]= \\left[ \\begin{array}{ccc} \\cos(\\theta) & \\sin(\\theta)  \\\\ -\\sin(\\theta) & cos(\\theta) \\end{array} \\right] \\left[ \\begin{array}{ccc} M_x^{2-} \\\\ M_z^{2-} \\end{array}  \\right]$"
   ]
  },
  {
   "cell_type": "code",
   "execution_count": 230,
   "metadata": {
    "collapsed": false
   },
   "outputs": [
    {
     "data": {
      "text/plain": [
       "2-element Array{Float64,1}:\n",
       " 0.660895\n",
       " 0.660895"
      ]
     },
     "execution_count": 230,
     "metadata": {},
     "output_type": "execute_result"
    }
   ],
   "source": [
    "M2plus_x, M2plus_z = transformation*[M2minus_x,M2minus_z]"
   ]
  },
  {
   "cell_type": "markdown",
   "metadata": {},
   "source": [
    "### Between RF pulse #2 and RF pulse #3\n",
    "* Initially the magnetization vectors are\n",
    "\n",
    "    $ \\left[ \\begin{array}{ccc} M_x^{2+} \\\\ M_z^{2+} \\end{array}  \\right] $\n",
    "    \n",
    "    \n",
    "* After a period of time (TR), the magnetization vectors become \n",
    "    \n",
    "    $ \\left[ \\begin{array}{ccc} M_x^{3-} \\\\ M_z^{3-} \\end{array}  \\right] $"
   ]
  },
  {
   "cell_type": "code",
   "execution_count": 231,
   "metadata": {
    "collapsed": false
   },
   "outputs": [
    {
     "data": {
      "text/plain": [
       "0.9243354497053824"
      ]
     },
     "execution_count": 231,
     "metadata": {},
     "output_type": "execute_result"
    }
   ],
   "source": [
    "M3minus_x = M2plus_x*exp(-TR/T2)\n",
    "M3minus_z = M2plus_z*exp(-TR/T1) + M0*(1-exp(-TR/T1))"
   ]
  },
  {
   "cell_type": "markdown",
   "metadata": {},
   "source": [
    "### RF pulse #3\n",
    "* The magnetization vector immediately before the second RF pulse is \n",
    "\n",
    "    $ \\left[ \\begin{array}{ccc} M_x^{3-} \\\\ M_z^{3-} \\end{array} \\right]$\n",
    "    \n",
    "    \n",
    "* Immediately after a $\\theta$-degree RF pulse, the magnetization vector is \n",
    "\n",
    "    $ \\left[ \\begin{array}{ccc} M_x^{3+} \\\\ M_z^{3+} \\end{array}  \\right]= \\left[ \\begin{array}{ccc} \\cos(\\theta) & \\sin(\\theta)  \\\\ -\\sin(\\theta) & cos(\\theta) \\end{array} \\right] \\left[ \\begin{array}{ccc} M_x^{3-} \\\\ M_z^{3-} \\end{array}  \\right]$"
   ]
  },
  {
   "cell_type": "code",
   "execution_count": 232,
   "metadata": {
    "collapsed": false
   },
   "outputs": [
    {
     "data": {
      "text/plain": [
       "2-element Array{Float64,1}:\n",
       " 0.653604\n",
       " 0.653604"
      ]
     },
     "execution_count": 232,
     "metadata": {},
     "output_type": "execute_result"
    }
   ],
   "source": [
    "M3plus_x, M3plus_z = transformation*[M3minus_x,M3minus_z]"
   ]
  },
  {
   "cell_type": "markdown",
   "metadata": {},
   "source": [
    "### Between RF pulse #3 and RF pulse #4\n",
    "* Initially the magnetization vectors are\n",
    "\n",
    "    $ \\left[ \\begin{array}{ccc} M_x^{3+} \\\\ M_z^{3+} \\end{array}  \\right] $\n",
    "    \n",
    "    \n",
    "* After a period of time (TR), the magnetization vectors become \n",
    "    \n",
    "    $ \\left[ \\begin{array}{ccc} M_x^{4-} \\\\ M_z^{4-} \\end{array}  \\right] $"
   ]
  },
  {
   "cell_type": "code",
   "execution_count": 233,
   "metadata": {
    "collapsed": false
   },
   "outputs": [
    {
     "data": {
      "text/plain": [
       "0.9227085748284458"
      ]
     },
     "execution_count": 233,
     "metadata": {},
     "output_type": "execute_result"
    }
   ],
   "source": [
    "M4minus_x = M3plus_x*exp(-TR/T2)\n",
    "M4minus_z = M3plus_z*exp(-TR/T1) + M0*(1-exp(-TR/T1))"
   ]
  },
  {
   "cell_type": "markdown",
   "metadata": {},
   "source": [
    "### RF pulse #4\n",
    "* The magnetization vector immediately before the second RF pulse is \n",
    "\n",
    "    $ \\left[ \\begin{array}{ccc} M_x^{4-} \\\\ M_z^{4-} \\end{array} \\right]$\n",
    "    \n",
    "    \n",
    "* Immediately after a $\\theta$-degree RF pulse, the magnetization vector is \n",
    "\n",
    "    $ \\left[ \\begin{array}{ccc} M_x^{4+} \\\\ M_z^{4+} \\end{array}  \\right]= \\left[ \\begin{array}{ccc} \\cos(\\theta) & \\sin(\\theta)  \\\\ -\\sin(\\theta) & cos(\\theta) \\end{array} \\right] \\left[ \\begin{array}{ccc} M_x^{4-} \\\\ M_z^{4-} \\end{array}  \\right]$"
   ]
  },
  {
   "cell_type": "code",
   "execution_count": 234,
   "metadata": {
    "collapsed": false
   },
   "outputs": [
    {
     "data": {
      "text/plain": [
       "2-element Array{Float64,1}:\n",
       " 0.652453\n",
       " 0.652453"
      ]
     },
     "execution_count": 234,
     "metadata": {},
     "output_type": "execute_result"
    }
   ],
   "source": [
    "M4plus_x, M4plus_z = transformation*[M4minus_x,M4minus_z]"
   ]
  },
  {
   "cell_type": "markdown",
   "metadata": {},
   "source": [
    "### Let us compare the magnetization vectors across TRs"
   ]
  },
  {
   "cell_type": "code",
   "execution_count": 235,
   "metadata": {
    "collapsed": false
   },
   "outputs": [
    {
     "data": {
      "image/png": "[encoded data removed]",
      "text/plain": [
       "PyPlot.Figure(PyObject <matplotlib.figure.Figure object at 0x1275fd750>)"
      ]
     },
     "metadata": {},
     "output_type": "display_data"
    }
   ],
   "source": [
    "figure(1,figsize=(8,1.5)); quiver(1:8, ones(8), [M1minus_x,M1plus_x,M2minus_x,M2plus_x,M3minus_x,M3plus_x,M4minus_x,M4plus_x], [M1minus_z,M1plus_z,M2minus_z,M2plus_z,M3minus_z,M3plus_z,M4minus_z,M4plus_z], color=\"blue\");"
   ]
  },
  {
   "cell_type": "code",
   "execution_count": 236,
   "metadata": {
    "collapsed": false
   },
   "outputs": [
    {
     "data": {
      "text/plain": [
       "0.7071067811865475"
      ]
     },
     "metadata": {},
     "output_type": "display_data"
    },
    {
     "data": {
      "text/plain": [
       "0.6608950119325674"
      ]
     },
     "metadata": {},
     "output_type": "display_data"
    },
    {
     "data": {
      "text/plain": [
       "0.6536038645777927"
      ]
     },
     "metadata": {},
     "output_type": "display_data"
    },
    {
     "data": {
      "text/plain": [
       "0.6524534903201689"
      ]
     },
     "metadata": {},
     "output_type": "display_data"
    }
   ],
   "source": [
    "display(M1plus_x/M0)\n",
    "display(M2plus_x/M0)\n",
    "display(M3plus_x/M0)\n",
    "display(M4plus_x/M0)"
   ]
  },
  {
   "cell_type": "markdown",
   "metadata": {},
   "source": [
    "### Homework: Let us try different simulation parameters ($\\theta$, TR, T1, T2 etc )"
   ]
  },
  {
   "cell_type": "markdown",
   "metadata": {},
   "source": [
    "### Optional: can you re-write this simulation procedure with a for-loop (so that you can more easily compute signals across many more TRs)?\n",
    "### Optional: can you expand the simulation code to include off-resonance effect?"
   ]
  }
 ],
 "metadata": {
  "kernelspec": {
   "display_name": "Julia 0.6.0",
   "language": "julia",
   "name": "julia-0.6"
  },
  "language_info": {
   "file_extension": ".jl",
   "mimetype": "application/julia",
   "name": "julia",
   "version": "0.6.0"
  }
 },
 "nbformat": 4,
 "nbformat_minor": 1
}
